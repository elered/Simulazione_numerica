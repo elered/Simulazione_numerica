{
 "cells": [
  {
   "cell_type": "code",
   "execution_count": 5,
   "id": "2056197d-4157-4177-8182-98f303d28bda",
   "metadata": {},
   "outputs": [
    {
     "name": "stdout",
     "output_type": "stream",
     "text": [
      "make: Nothing to be done for 'all'.\n"
     ]
    }
   ],
   "source": [
    "import os\n",
    "import shutil\n",
    "import subprocess\n",
    "\n",
    "def modify_input_file(simulation_number, restart):\n",
    "    input_content = \"\"\"\\\n",
    "SIMULATION_TYPE        0\n",
    "RESTART                {restart}\n",
    "TEMP                   {temp}\n",
    "NPART                  108\n",
    "RHO                    {rho}\n",
    "R_CUT                  {r_cut}\n",
    "DELTA                  {delta}\n",
    "NBLOCKS                {nblocks}\n",
    "NSTEPS                 {nsteps}\n",
    "\n",
    "ENDINPUT\n",
    "\"\"\"\n",
    "\n",
    "    temperature = {1: 1.55, 2: 2, 3: 1}\n",
    "    rho = {1: 1.1, 2: 0.8, 3: 0.05}\n",
    "    r_cut = {1: 2.2, 2: 2.5, 3: 5.0}\n",
    "    delta = {1: 0.001, 2: 0.0005, 3: 0.0005}\n",
    "\n",
    "    with open(\"INPUT/input.dat\", \"w\") as f:\n",
    "        f.write(input_content.format(restart=restart, temp=temperature[simulation_number], rho=rho[simulation_number], r_cut=r_cut[simulation_number], nblocks=100, nsteps=5000, delta=delta[simulation_number]))\n",
    "\n",
    "\n",
    "def rename_output_files(simulation_number):\n",
    "    output_folder = \"OUTPUT\"\n",
    "    files_to_rename = [\"potential_energy.dat\", \"temperature.dat\", \"kinetic_energy.dat\", \"total_energy.dat\", \"pressure.dat\"]\n",
    "    suffix = \"\"\n",
    "\n",
    "    if simulation_number == 1:\n",
    "        suffix = \"_solido\"\n",
    "    elif simulation_number == 2:\n",
    "        suffix = \"_liquido\"\n",
    "    elif simulation_number == 3:\n",
    "        suffix = \"_gassoso\"\n",
    "\n",
    "    for filename in os.listdir(output_folder):\n",
    "        if filename in files_to_rename:\n",
    "            old_filepath = os.path.join(output_folder, filename)\n",
    "            new_filename = f\"{filename.split('.')[0]}{suffix}.dat\"\n",
    "            new_filepath = os.path.join(output_folder, new_filename)\n",
    "            os.rename(old_filepath, new_filepath)\n",
    "\n",
    "\n",
    "def main():\n",
    "    # Esegui il codice tramite il makefile\n",
    "    subprocess.run([\"make\"], cwd=\"SOURCE\")\n",
    "\n",
    "    # Simulazioni\n",
    "    for simulation_number in range(1, 4):\n",
    "        modify_input_file(simulation_number, restart=0)  # RESTART a 0\n",
    "        subprocess.run([\"./simulator.exe\"], cwd=\"SOURCE\")\n",
    "\n",
    "        # Modifica il file di input per la prossima simulazione\n",
    "        os.remove(\"INPUT/CONFIG/config.xyz\")\n",
    "        modify_input_file(simulation_number, restart=1)\n",
    "        shutil.copy(\"OUTPUT/CONFIG/config.xyz\", \"INPUT/CONFIG/config.xyz\")\n",
    "        os.remove(\"INPUT/CONFIG/velocities.in\")\n",
    "        shutil.move(\"OUTPUT/CONFIG/velocities.out\", \"INPUT/CONFIG/velocities.in\")\n",
    "\n",
    "        # Esegui la simulazione\n",
    "        subprocess.run([\"./simulator.exe\"], cwd=\"SOURCE\")\n",
    "        rename_output_files(simulation_number)\n",
    "\n",
    "        # Rimetti RESTART a 0 e copia config.fcc in config.xyz per la prossima simulazione\n",
    "        modify_input_file(simulation_number, restart=0)\n",
    "        os.remove(\"INPUT/CONFIG/config.xyz\")\n",
    "        shutil.copy(\"INPUT/CONFIG/config.fcc\", \"INPUT/CONFIG/config.xyz\")\n",
    "\n",
    "\n",
    "if __name__ == \"__main__\":\n",
    "    main()\n",
    "\n"
   ]
  }
 ],
 "metadata": {
  "kernelspec": {
   "display_name": "Python 3 (ipykernel)",
   "language": "python",
   "name": "python3"
  },
  "language_info": {
   "codemirror_mode": {
    "name": "ipython",
    "version": 3
   },
   "file_extension": ".py",
   "mimetype": "text/x-python",
   "name": "python",
   "nbconvert_exporter": "python",
   "pygments_lexer": "ipython3",
   "version": "3.11.5"
  }
 },
 "nbformat": 4,
 "nbformat_minor": 5
}
