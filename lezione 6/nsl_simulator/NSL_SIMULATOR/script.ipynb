{
 "cells": [
  {
   "cell_type": "code",
   "execution_count": 3,
   "metadata": {},
   "outputs": [
    {
     "name": "stdout",
     "output_type": "stream",
     "text": [
      "g++ -c system.cpp -o system.o -O3 --std=c++11\n",
      "g++ system.o particle.o random.o NSL_SIMULATOR.o -o simulator.exe -larmadillo\n"
     ]
    }
   ],
   "source": [
    "import os\n",
    "import shutil\n",
    "import subprocess\n",
    "\n",
    "def modify_input_file(temperature, simulation_type, h):\n",
    "    with open(\"INPUT/input.dat\", \"r\") as f:\n",
    "        lines = f.readlines()\n",
    "\n",
    "    # Cerca le righe da modificare e sostituisci solo quelle\n",
    "    for i, line in enumerate(lines):\n",
    "        if line.startswith(\"SIMULATION_TYPE\"):\n",
    "            lines[i] = f\"SIMULATION_TYPE {simulation_type} 1.0 {h}\\n\"\n",
    "        elif line.startswith(\"TEMP\"):\n",
    "            lines[i] = f\"TEMP {temperature}\\n\"\n",
    "\n",
    "    with open(\"INPUT/input.dat\", \"w\") as f:\n",
    "        f.writelines(lines)\n",
    "\n",
    "\n",
    "def rename_output_files(temperature, simulation_type, h):\n",
    "    output_folder = \"OUTPUT\"\n",
    "    files_to_rename = [\"total_energy.dat\", \"magnetization.dat\", \"specific_heat.dat\", \"susceptibility.dat\"]\n",
    "    \n",
    "    for filename in os.listdir(output_folder):\n",
    "        if filename in files_to_rename:\n",
    "            old_filepath = os.path.join(output_folder, filename)\n",
    "            new_filename = f\"{filename.split('.')[0]}_{temperature}_{int(simulation_type)}_{h}.dat\"\n",
    "            new_filepath = os.path.join(output_folder, new_filename)\n",
    "            os.rename(old_filepath, new_filepath)\n",
    "\n",
    "\n",
    "\n",
    "def main():\n",
    "    #esegui il codice tramite makefile\n",
    "    subprocess.run([\"make\"],cwd=\"SOURCE\")\n",
    "\n",
    "    # Itera attraverso tutte le temperature e i tipi di simulazione\n",
    "    for simulation_type in [2, 3]:\n",
    "        for temperature in [2.0, 1.75, 1.50, 1.25, 1.0, 0.75, 0.50]:\n",
    "            for h in [0, 0.02]:\n",
    "                modify_input_file(temperature, simulation_type, h)\n",
    "                subprocess.run([\"./simulator.exe\"], cwd=\"SOURCE\")\n",
    "                rename_output_files(temperature, simulation_type, h)\n",
    "\n",
    "if __name__ == \"__main__\":\n",
    "    main()\n"
   ]
  }
 ],
 "metadata": {
  "kernelspec": {
   "display_name": "Python 3 (ipykernel)",
   "language": "python",
   "name": "python3"
  },
  "language_info": {
   "codemirror_mode": {
    "name": "ipython",
    "version": 3
   },
   "file_extension": ".py",
   "mimetype": "text/x-python",
   "name": "python",
   "nbconvert_exporter": "python",
   "pygments_lexer": "ipython3",
   "version": "3.11.5"
  }
 },
 "nbformat": 4,
 "nbformat_minor": 4
}
